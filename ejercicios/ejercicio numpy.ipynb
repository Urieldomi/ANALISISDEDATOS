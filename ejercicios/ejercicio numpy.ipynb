{
 "cells": [
  {
   "attachments": {},
   "cell_type": "markdown",
   "metadata": {},
   "source": [
    "Ejercicio 1 Hacer una matriz 8x8 empezando en 1 llenado por filas"
   ]
  },
  {
   "cell_type": "code",
   "execution_count": 1,
   "metadata": {},
   "outputs": [
    {
     "data": {
      "text/plain": [
       "array([[ 1,  2,  3,  4,  5,  6,  7,  8],\n",
       "       [ 9, 10, 11, 12, 13, 14, 15, 16],\n",
       "       [17, 18, 19, 20, 21, 22, 23, 24],\n",
       "       [25, 26, 27, 28, 29, 30, 31, 32],\n",
       "       [33, 34, 35, 36, 37, 38, 39, 40],\n",
       "       [41, 42, 43, 44, 45, 46, 47, 48],\n",
       "       [49, 50, 51, 52, 53, 54, 55, 56],\n",
       "       [57, 58, 59, 60, 61, 62, 63, 64]])"
      ]
     },
     "execution_count": 1,
     "metadata": {},
     "output_type": "execute_result"
    }
   ],
   "source": [
    "import numpy as np\n",
    "\n",
    "matriz = [[(i*8+j+1)for j in range(8)]for i in range (8)]\n",
    "m =np.array(matriz)\n",
    "m\n"
   ]
  },
  {
   "attachments": {},
   "cell_type": "markdown",
   "metadata": {},
   "source": [
    "#Ejercicio 2 Hacer una matriz 8x8 empezando en 1 llenado por columnas"
   ]
  },
  {
   "cell_type": "code",
   "execution_count": 2,
   "metadata": {},
   "outputs": [
    {
     "data": {
      "text/plain": [
       "array([[ 1,  9, 17, 25, 33, 41, 49, 57],\n",
       "       [ 2, 10, 18, 26, 34, 42, 50, 58],\n",
       "       [ 3, 11, 19, 27, 35, 43, 51, 59],\n",
       "       [ 4, 12, 20, 28, 36, 44, 52, 60],\n",
       "       [ 5, 13, 21, 29, 37, 45, 53, 61],\n",
       "       [ 6, 14, 22, 30, 38, 46, 54, 62],\n",
       "       [ 7, 15, 23, 31, 39, 47, 55, 63],\n",
       "       [ 8, 16, 24, 32, 40, 48, 56, 64]])"
      ]
     },
     "execution_count": 2,
     "metadata": {},
     "output_type": "execute_result"
    }
   ],
   "source": [
    "\n",
    "\n",
    "matriz2 = np.arange(1, 65).reshape((8, 8), order='F')\n",
    "matriz2\n",
    "\n"
   ]
  },
  {
   "attachments": {},
   "cell_type": "markdown",
   "metadata": {},
   "source": [
    "Ejercicio 2 reemplazar los elementos que tengan al menos un 3 por -99.\n",
    "\n",
    " \n",
    "\n"
   ]
  },
  {
   "cell_type": "code",
   "execution_count": 5,
   "metadata": {},
   "outputs": [
    {
     "data": {
      "text/plain": [
       "array([[  1,   9,  17,  25, -99,  41,  49,  57],\n",
       "       [  2,  10,  18,  26,  34,  42,  50,  58],\n",
       "       [-99,  11,  19,  27,  35, -99,  51,  59],\n",
       "       [  4,  12,  20,  28,  36,  44,  52,  60],\n",
       "       [  5, -99,  21,  29,  37,  45, -99,  61],\n",
       "       [  6,  14,  22,  30,  38,  46,  54,  62],\n",
       "       [  7,  15, -99,  31,  39,  47,  55, -99],\n",
       "       [  8,  16,  24,  32,  40,  48,  56,  64]])"
      ]
     },
     "execution_count": 5,
     "metadata": {},
     "output_type": "execute_result"
    }
   ],
   "source": [
    "\n",
    "\n",
    "matriz2[matriz2 % 10 == 3] = -99\n",
    "\n",
    "matriz2"
   ]
  },
  {
   "attachments": {},
   "cell_type": "markdown",
   "metadata": {},
   "source": [
    "Ejercicio 3:\n",
    "\n",
    "i. Reproducir la matriz B:\n",
    "\n",
    "[[0.4 0.41 0.42 0.43 0.44]\n",
    "[0.45 0.46 0.47 0.48 0.49]\n",
    "[0.5 0.51 0.52 0.53 0.54]\n",
    "[0.55 0.56 0.57 0.58 0.59]\n",
    "[0.6 0.61 0.62 0.63 0.64]\n",
    "[0.65 0.66 0.67 0.68 0.69]\n",
    "[0.7 0.71 0.72 0.73 0.74]\n",
    "[0.75 0.76 0.77 0.78 0.79]]\n",
    "\n",
    "ii. Unir B con el resultado del ejercicio anterior 2.ii para obtener una matriz de 8 lineas y 13 columnas.\n",
    "\n",
    "iii. Agregar una linea al final con el promedio de cada columna\n",
    "\n",
    "iv. Agregar una columna al final con el valor maximo de cada fila\n",
    "\n",
    "v. Guardar en un archivo."
   ]
  },
  {
   "cell_type": "code",
   "execution_count": 12,
   "metadata": {},
   "outputs": [],
   "source": [
    "#Creamos una matriz B\n",
    "B = np.arange(0.4,0.80,0.01).reshape(8,5)\n",
    "#unimos\n",
    "MatrizU = np.concatenate((matriz2,B), axis =1)\n",
    "\n",
    "#realizamos una linea al final con el promedio de cada columna\n",
    "prom_colu = np.mean(MatrizU,axis = 0 ) \n",
    "\n",
    "Matriz3 = np.append(MatrizU,prom_colu).reshape(9,13)\n",
    "#realizar columna con valor maximo  y ponerla al final\n",
    "max_fil = np.max(Matriz3, axis =1)\n",
    "Matriz4 = np.insert(Matriz3,[13],max_fil.reshape(9,1), axis =1)\n",
    "#Guardado en un archivo\n",
    "f = open('Matriz_E3.txt','w')\n",
    "f.write('----------------------------------------')\n",
    "f.write('\\n Matriz Ejercicio 3\\n' )\n",
    "f.write(str(Matriz4))\n",
    "f.write('\\n----------------------------------------')\n",
    "f.close()\n"
   ]
  }
 ],
 "metadata": {
  "kernelspec": {
   "display_name": "Python 3",
   "language": "python",
   "name": "python3"
  },
  "language_info": {
   "codemirror_mode": {
    "name": "ipython",
    "version": 3
   },
   "file_extension": ".py",
   "mimetype": "text/x-python",
   "name": "python",
   "nbconvert_exporter": "python",
   "pygments_lexer": "ipython3",
   "version": "3.10.5"
  },
  "orig_nbformat": 4,
  "vscode": {
   "interpreter": {
    "hash": "2d4aed6538643e2f5594832ec331438e4b9177700afb30feabd10efbc14122ca"
   }
  }
 },
 "nbformat": 4,
 "nbformat_minor": 2
}
