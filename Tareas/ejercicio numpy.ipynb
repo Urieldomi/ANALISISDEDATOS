{
 "cells": [
  {
   "attachments": {},
   "cell_type": "markdown",
   "metadata": {},
   "source": [
    "Ejercicio 1 Hacer una matriz 8x8 empezando en 1 llenado por filas"
   ]
  },
  {
   "cell_type": "code",
   "execution_count": 2,
   "metadata": {},
   "outputs": [
    {
     "data": {
      "text/plain": [
       "[[1, 2, 3, 4, 5, 6, 7, 8],\n",
       " [9, 10, 11, 12, 13, 14, 15, 16],\n",
       " [17, 18, 19, 20, 21, 22, 23, 24],\n",
       " [25, 26, 27, 28, 29, 30, 31, 32],\n",
       " [33, 34, 35, 36, 37, 38, 39, 40],\n",
       " [41, 42, 43, 44, 45, 46, 47, 48],\n",
       " [49, 50, 51, 52, 53, 54, 55, 56],\n",
       " [57, 58, 59, 60, 61, 62, 63, 64]]"
      ]
     },
     "execution_count": 2,
     "metadata": {},
     "output_type": "execute_result"
    }
   ],
   "source": [
    "import numpy as np\n",
    "\n",
    "matriz = [[(i*8+j+1)for j in range(8)]for i in range (8)]\n",
    "matriz\n",
    "\n"
   ]
  }
 ],
 "metadata": {
  "kernelspec": {
   "display_name": "Python 3",
   "language": "python",
   "name": "python3"
  },
  "language_info": {
   "codemirror_mode": {
    "name": "ipython",
    "version": 3
   },
   "file_extension": ".py",
   "mimetype": "text/x-python",
   "name": "python",
   "nbconvert_exporter": "python",
   "pygments_lexer": "ipython3",
   "version": "3.10.8"
  },
  "orig_nbformat": 4,
  "vscode": {
   "interpreter": {
    "hash": "26de051ba29f2982a8de78e945f0abaf191376122a1563185a90213a26c5da77"
   }
  }
 },
 "nbformat": 4,
 "nbformat_minor": 2
}
