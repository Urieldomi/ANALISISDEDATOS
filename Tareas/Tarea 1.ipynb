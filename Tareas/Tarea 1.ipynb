{
 "cells": [
  {
   "cell_type": "code",
   "execution_count": null,
   "metadata": {},
   "outputs": [],
   "source": [
    "EJERCICIO\n",
    "leer documento correos para:\n",
    "\n",
    "    obtener una lista con los diferentes dominios\n",
    "\n",
    "    crear nuevo documento indicando nombre de usuario y numero de vocales que contiene el nombre\n"
   ]
  },
  {
   "cell_type": "markdown",
   "metadata": {},
   "source": []
  }
 ],
 "metadata": {
  "language_info": {
   "name": "python"
  },
  "orig_nbformat": 4
 },
 "nbformat": 4,
 "nbformat_minor": 2
}
